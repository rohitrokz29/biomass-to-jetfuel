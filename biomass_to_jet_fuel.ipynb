{
  "nbformat": 4,
  "nbformat_minor": 0,
  "metadata": {
    "colab": {
      "provenance": [],
      "toc_visible": true,
      "authorship_tag": "ABX9TyNhlq7dqGBXrFL4lQoDsb0M"
    },
    "kernelspec": {
      "name": "python3",
      "display_name": "Python 3"
    },
    "language_info": {
      "name": "python"
    }
  },
  "cells": [
    {
      "cell_type": "markdown",
      "source": [
        "**FTR REACTOR RYIELD**\n",
        "\n",
        "yield of n-order Paraffing ASF Model\n",
        "\n",
        "\n",
        "Wn=(1-a)*(a^(n-1))\n",
        "\n",
        "sum(Wn)+H2O(15)+ CO2(2) >100 then Scaling Factor SF\n",
        "\n",
        "SF=(100-(H2O+CO2))/sum(Wn)\n",
        "\n",
        "Wn_new=Wn*SF\n",
        "\n",
        "now sum(Wn_new+H2O+CO2)=100"
      ],
      "metadata": {
        "id": "xepqpN5Sd07u"
      }
    },
    {
      "cell_type": "markdown",
      "source": [
        "# FTR Yield Data Generation from biomass result"
      ],
      "metadata": {
        "id": "SsS97BNgLswi"
      }
    },
    {
      "cell_type": "code",
      "source": [
        "import numpy as np\n",
        "import pandas as pd\n"
      ],
      "metadata": {
        "id": "FNZDyw1QG-i7"
      },
      "execution_count": 4,
      "outputs": []
    },
    {
      "cell_type": "code",
      "execution_count": 5,
      "metadata": {
        "id": "3_ms0h5wdywp"
      },
      "outputs": [],
      "source": [
        "\n",
        "def calculate_yield_hydrocarbon(n, a):\n",
        "    yields = []\n",
        "    for i in range(1, n+1):  # Ensure it includes n\n",
        "        yields.append((1 - a) * (a**(i-1)) * 100)\n",
        "    return yields\n",
        "\n",
        "def print_yield_table(n_yield, H2O, CO2):\n",
        "    till_c_18_sum=n_yield.sum()+H2O+CO2-n_yield[n_yield.size-1]\n",
        "    if(n_yield.sum()+H2O+CO2<100):\n",
        "      n_yield[n_yield.size-1]=100.00-till_c_18_sum\n",
        "    yield_table = pd.DataFrame(columns=['HC-Range', 'Yield (%)'])\n",
        "\n",
        "    for i in range(len(n_yield)):\n",
        "        new_row = pd.DataFrame([{\"HC-Range\": f\"Carbon-{i+1}\", \"Yield (%)\": n_yield[i]}])\n",
        "        yield_table = pd.concat([yield_table, new_row], ignore_index=True)\n",
        "\n",
        "    new_rows = pd.DataFrame([['H2O', H2O], ['CO2', CO2]], columns=['HC-Range', 'Yield (%)'])\n",
        "    yield_table = pd.concat([yield_table, new_rows], ignore_index=True)\n",
        "\n",
        "    display(yield_table)\n",
        "\n",
        "\n",
        "# calculation start form here\n",
        "def calculate_for_biomass(name,H2,CO):\n",
        "  # Given parameters\n",
        "  a = 3.00-H2/CO  # Chain growth probability alpha\n",
        "  H2O = 15  # Water yield\n",
        "  CO2 = 2    # CO2 yield\n",
        "  n=19\n",
        "\n",
        "# Compute ASF-based hydrocarbon yields for C1-C20\n",
        "  n_yield_less_20 = np.array(calculate_yield_hydrocarbon(n, a))\n",
        "\n",
        "# Normalize if total exceeds 100%\n",
        "  all_sum = n_yield_less_20.sum() + H2O + CO2\n",
        "  if all_sum > 100:\n",
        "      SF = (100 - (H2O + CO2)) / n_yield_less_20.sum()  # Scaling Factor\n",
        "      n_yield_less_20 *= SF  # Scale hydrocarbons\n",
        "  print(f\"name: {name}, H2:{H2},CO:{CO}, a={a}\")\n",
        "# Print the final yield table\n",
        "\n",
        "  print_yield_table(n_yield_less_20, H2O, CO2)\n",
        "\n",
        "# Verify final sum is exactly 100%\n",
        "  print(f\"Final Total Yield: {n_yield_less_20.sum() + H2O + CO2:.2f}%\")\n"
      ]
    },
    {
      "cell_type": "code",
      "source": [
        "\n",
        "biomass_result=pd.read_csv(\"https://docs.google.com/spreadsheets/d/1xogZ0K7gRvvukae3BMCq91AbCyHS6QY6VOzNGRAYKgg/gviz/tq?tqx=out:csv&sheet=biomass-syngas-variation\"\n",
        ")\n",
        "# biomass_list=np.array(biomass_result[\"biomass\"])\n",
        "\n",
        "for i in range(len(biomass_result)):\n",
        "  calculate_for_biomass(biomass_result['biomass'].iloc[i],biomass_result['H2(kmol/hr)'].iloc[i],biomass_result['CO(kmol/hr)'].iloc[i])\n"
      ],
      "metadata": {
        "collapsed": true,
        "id": "BQ-HLZkkKAIm"
      },
      "execution_count": null,
      "outputs": []
    },
    {
      "cell_type": "markdown",
      "source": [],
      "metadata": {
        "id": "mwC1jokqdz-H"
      }
    },
    {
      "cell_type": "markdown",
      "source": [
        "# Biomasa vs   H2,CO Flow Rate\n",
        "\n"
      ],
      "metadata": {
        "id": "gTkg4d7eL7yA"
      }
    },
    {
      "cell_type": "code",
      "source": [
        "import matplotlib.pyplot as plt\n",
        "\n",
        "biomass_names=[]\n",
        "H2=[]\n",
        "CO=[]\n",
        "for i in range(len(biomass_result)):\n",
        "  biomass_names.append(biomass_result['biomass'].iloc[i])\n",
        "  H2.append(biomass_result['H2(kmol/hr)'].iloc[i])\n",
        "  CO.append(biomass_result['CO(kmol/hr)'].iloc[i])\n",
        "\n",
        "\n",
        "\n",
        "br1 = np.arange(len(biomass_names))\n",
        "br2 = [x + 0.25 for x in br1]\n",
        "fig=plt.figure(figsize=(12, 5))\n",
        "plt.bar(br1, H2, color ='r', width = 0.2,\n",
        "        edgecolor ='grey', label ='H2')\n",
        "plt.bar(br2, CO, color ='g', width = 0.2,\n",
        "        edgecolor ='grey', label ='CO')\n",
        "plt.xlabel('Feed Biomass')\n",
        "plt.ylabel('kmol/hr')\n",
        "plt.xticks([r + 0.125 for r in range(len(biomass_names))], biomass_names)\n",
        "plt.legend()\n",
        "\n",
        "plt.show()"
      ],
      "metadata": {
        "id": "-HFatK57MKix"
      },
      "execution_count": null,
      "outputs": []
    },
    {
      "cell_type": "markdown",
      "source": [
        "# Predicting Condition for maximum jet fuel (C8-C16) at fixed feed rate of 20000 kg/hr\n"
      ],
      "metadata": {
        "id": "i8JvxmrbmBPU"
      }
    },
    {
      "cell_type": "markdown",
      "source": [
        "We have to create table of\n",
        "\n",
        "\n",
        "*   biomass\n",
        "*   maximum product\n",
        "*   temp at which maximum\n",
        "\n"
      ],
      "metadata": {
        "id": "3TtfM493m5jw"
      }
    },
    {
      "cell_type": "code",
      "source": [
        "maximum_output_table = pd.DataFrame(columns=['Biomass', 'Maxmimum Jet Fuel(Kg/hr)',\"Occuring Temperature(deg.C)\",\"Chain Growth Probability\"])\n",
        "\n",
        "def find_maximium_condition(biomass,temp,jet_fuel,a): # a: chain growth probability\n",
        "  global maximum_output_table # Declare maximum_output_table as global\n",
        "  max_index=np.array(jet_fuel).argmax()\n",
        "  new_row = pd.DataFrame([{\"Biomass\":f\"{biomass}\", \"Maxmimum Jet Fuel(Kg/hr)\":f\"{jet_fuel[max_index]}\",\"Occuring Temperature(deg.C)\":f\"{temp[max_index]}\",\"Chain Growth Probability\":f\"{a}\" }])\n",
        "  maximum_output_table = pd.concat([maximum_output_table, new_row], ignore_index=True)\n",
        "\n",
        "def show_max_output_table():\n",
        "  display(maximum_output_table)\n",
        "\n"
      ],
      "metadata": {
        "id": "T6dJGjeul84v"
      },
      "execution_count": 8,
      "outputs": []
    },
    {
      "cell_type": "markdown",
      "source": [
        "# Biomass vs Hydrocarnon range plotting\n"
      ],
      "metadata": {
        "id": "YfbB0dxPPoB6"
      }
    },
    {
      "cell_type": "code",
      "source": [
        "sheet_names=[\"coffee-vs-temp\",\"wood_residue-vs-temp\",\"green-vs-temp\",\"muncipal-vs-temp\",\"pine-vs-temp\",\"food-vs-temp\",\"wood_chip-vs-temp\"]\n",
        "\n",
        "def plot_biomass_vs_temp(index):\n",
        "  biomass_vs_temp=pd.read_csv(f\"https://docs.google.com/spreadsheets/d/1xogZ0K7gRvvukae3BMCq91AbCyHS6QY6VOzNGRAYKgg/gviz/tq?tqx=out:csv&sheet={sheet_names[index]}\")\n",
        "  temp=biomass_vs_temp['Temp(deg.C)']\n",
        "  a=3-biomass_result['H2(kmol/hr)'].iloc[index]/biomass_result['CO(kmol/hr)'].iloc[index] #chain growth probability\n",
        "  find_maximium_condition(biomass_names[index],temp,biomass_vs_temp['C8-C16 (kg/hr)'],a) # analysing data to find maximum output obtained\n",
        "  current_fig=plt.figure(figsize=(8,5))\n",
        "  plt.plot(temp,biomass_vs_temp['C1-C4 (kg/hr)'],label='C1-C4 (kg/hr)')\n",
        "  plt.plot(temp,biomass_vs_temp['C5-C7 (kg/hr)'],label='C5-C7 (kg/hr)')\n",
        "  plt.plot(temp,biomass_vs_temp['C8-C16 (kg/hr)'],label='C8-C16 (kg/hr)')\n",
        "  plt.plot(temp,biomass_vs_temp['C17+ (kg/hr)'],label='C17+ (kg/hr)')\n",
        "  plt.xlabel('Temperature(deg.C)')\n",
        "  plt.ylabel('Hydrocarbon(kg/hr)')\n",
        "  plt.title(f\"{biomass_names[index]} \")\n",
        "  plt.legend()\n",
        "  plt.show()\n",
        "\n",
        "for index in range(len(sheet_names)):\n",
        "  plot_biomass_vs_temp(index)\n",
        "\n",
        "\n",
        "show_max_output_table() # printing table where maximum of the output is obtained for each biomass\n",
        "\n"
      ],
      "metadata": {
        "id": "wdedxrbHQiLA"
      },
      "execution_count": null,
      "outputs": []
    }
  ]
}